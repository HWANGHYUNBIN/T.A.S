{
 "cells": [
  {
   "cell_type": "code",
   "execution_count": 1,
   "metadata": {
    "scrolled": true
   },
   "outputs": [],
   "source": [
    "from konlpy.tag import Okt\n",
    "import openpyxl\n",
    "word_data = []\n",
    "label_data = []\n",
    "# 학습용데이터 로드\n",
    "# f1 = 학습용 문장 / f2 = 학습용 문장의 라벨링\n",
    "f1=open(\"3200_text.txt\",'r', encoding='utf-8')\n",
    "f2=open(\"3200_label.txt\",'r', encoding='utf-8')\n",
    "\n",
    "while True:\n",
    "    text = f1.readline().rstrip('\\n')\n",
    "    label = f2.readline().rstrip('\\n')\n",
    "    if not text: \n",
    "        break\n",
    "    word_data.append(text)\n",
    "    label_data.append(int(label))\n",
    "    \n",
    "f1.close()\n",
    "f2.close()"
   ]
  },
  {
   "cell_type": "code",
   "execution_count": 2,
   "metadata": {},
   "outputs": [],
   "source": [
    "okt=Okt()\n",
    "morpheme = []"
   ]
  },
  {
   "cell_type": "code",
   "execution_count": 3,
   "metadata": {},
   "outputs": [],
   "source": [
    "# 문장 형태소 분석, 필요없는 형태소(불용어) 제거 후 저장\n",
    "for text in word_data:\n",
    "    mor_data = \"\"\n",
    "    for word_tag in okt.pos(text, norm=True, stem=True):\n",
    "        if word_tag[1] in ['Noun', 'Verb', 'VerbPrefix', 'Adjective', 'Determiner', 'Adverb', 'Exclamation', 'KoreanParticle']:\n",
    "            mor_data += word_tag[0]\n",
    "            mor_data += \" \"\n",
    "    morpheme.append(mor_data)  "
   ]
  },
  {
   "cell_type": "code",
   "execution_count": 4,
   "metadata": {
    "scrolled": false
   },
   "outputs": [],
   "source": [
    "from keras.preprocessing.text import Tokenizer\n",
    "from keras.preprocessing.sequence import pad_sequences\n",
    "import numpy as np\n",
    "# 문장 및 사용될 단어의 최대 길이/갯수 설정\n",
    "maxlen = 50\n",
    "max_words = 10000\n",
    "# 생성된 형태소 배열 토큰화 및 정수 인코딩\n",
    "tokenizer = Tokenizer(num_words=max_words)\n",
    "tokenizer.fit_on_texts(morpheme) # 빈도수 기준으로 단어 집합 생성\n",
    "sequences = tokenizer.texts_to_sequences(morpheme) # 단어 빈도수가 높은 순으로 번호 부여\n",
    "word_index = tokenizer.word_index"
   ]
  },
  {
   "cell_type": "code",
   "execution_count": 5,
   "metadata": {},
   "outputs": [],
   "source": [
    "import json\n",
    "# 벡터화된 형태소 저장 / 추후 서버에서 호출할 word index 데이터를 json의 형태로 저장\n",
    "json = json.dumps(word_index)\n",
    "f3 = open(\"wordIndex.json\", \"w\")\n",
    "f3.write(json)\n",
    "f3.close()"
   ]
  },
  {
   "cell_type": "code",
   "execution_count": 5,
   "metadata": {
    "scrolled": true
   },
   "outputs": [],
   "source": [
    "# 문장 별 길이를 동일하게 맞추기 위한 패딩\n",
    "pad_data = pad_sequences(sequences, maxlen=maxlen)\n",
    "labels = np.asarray(label_data)"
   ]
  },
  {
   "cell_type": "code",
   "execution_count": 6,
   "metadata": {
    "scrolled": true
   },
   "outputs": [],
   "source": [
    "# 현재 데이터들이 욕설x -> 욕설o 순으로 저장되어 있으므로, 배열 순서 셔플\n",
    "indices = np.arange(pad_data.shape[0])\n",
    "np.random.shuffle(indices)\n",
    "text_train = pad_data[indices]\n",
    "label_train = labels[indices]"
   ]
  },
  {
   "cell_type": "code",
   "execution_count": 7,
   "metadata": {},
   "outputs": [],
   "source": [
    "from keras import backend as K\n",
    "\n",
    "def recall(y_target, y_pred):\n",
    "    # clip(t, clip_value_min, clip_value_max) : clip_value_min~clip_value_max 이외 가장자리를 깎아 낸다\n",
    "    # round : 반올림 - 0.5 이하 = 0 / 0.5 초과 = 1\n",
    "    y_pred_yn = K.round(K.clip(y_pred, 0, 1)) # 예측값을 0(Negative) 또는 1(Positive)로 설정\n",
    "    y_target_yn = K.round(K.clip(y_target, 0, 1)) # 실제값을 0(Negative) 또는 1(Positive)로 설정\n",
    "    # True Positive = 실제 값과 예측 값이 모두 1(Positive)인 경우\n",
    "    count_true_positive = K.sum(y_target_yn * y_pred_yn) \n",
    "    # (True Positive + False Negative) = 실제 값이 1(Positive) 전체\n",
    "    count_true_positive_false_negative = K.sum(y_target_yn)\n",
    "    # Recall =  (True Positive) / (True Positive + False Negative)\n",
    "    # K.epsilon() = 'divide by zero error' 예방차원에서 작은 수를 더함\n",
    "    recall = count_true_positive / (count_true_positive_false_negative + K.epsilon())\n",
    "    # return a single tensor value\n",
    "    return recall\n",
    "\n",
    "\n",
    "def precision(y_target, y_pred):\n",
    "    # clip(t, clip_value_min, clip_value_max) : clip_value_min~clip_value_max 이외 가장자리를 깎아 낸다\n",
    "    # round : 반올림 - 0.5 이하 = 0 / 0.5 초과 = 1\n",
    "    y_pred_yn = K.round(K.clip(y_pred, 0, 1)) # 예측값을 0(Negative) 또는 1(Positive)로 설정\n",
    "    y_target_yn = K.round(K.clip(y_target, 0, 1)) # 실제값을 0(Negative) 또는 1(Positive)로 설정\n",
    "    # True Positive = 실제 값과 예측 값이 모두 1(Positive)인 경우이다\n",
    "    count_true_positive = K.sum(y_target_yn * y_pred_yn) \n",
    "    # (True Positive + False Positive) = 예측 값이 1(Positive) 전체\n",
    "    count_true_positive_false_positive = K.sum(y_pred_yn)\n",
    "    # Precision = (True Positive) / (True Positive + False Positive)\n",
    "    # K.epsilon() = 'divide by zero error' 예방차원에서 작은 수를 더함\n",
    "    precision = count_true_positive / (count_true_positive_false_positive + K.epsilon())\n",
    "    # return a single tensor value\n",
    "    return precision\n",
    "\n",
    "def f1score(y_target, y_pred):\n",
    "    _recall = recall(y_target, y_pred)\n",
    "    _precision = precision(y_target, y_pred)\n",
    "    # K.epsilon()는 'divide by zero error' 예방차원에서 작은 수를 더한다\n",
    "    _f1score = ( 2 * _recall * _precision) / (_recall + _precision+ K.epsilon())\n",
    "    # return a single tensor value\n",
    "    return _f1score"
   ]
  },
  {
   "cell_type": "code",
   "execution_count": 8,
   "metadata": {
    "scrolled": true
   },
   "outputs": [
    {
     "name": "stdout",
     "output_type": "stream",
     "text": [
      "Model: \"sequential\"\n",
      "_________________________________________________________________\n",
      "Layer (type)                 Output Shape              Param #   \n",
      "=================================================================\n",
      "embedding (Embedding)        (None, 50, 32)            320000    \n",
      "_________________________________________________________________\n",
      "dropout (Dropout)            (None, 50, 32)            0         \n",
      "_________________________________________________________________\n",
      "conv1d (Conv1D)              (None, 48, 64)            6208      \n",
      "_________________________________________________________________\n",
      "max_pooling1d (MaxPooling1D) (None, 12, 64)            0         \n",
      "_________________________________________________________________\n",
      "lstm (LSTM)                  (None, 32)                12416     \n",
      "_________________________________________________________________\n",
      "dense (Dense)                (None, 32)                1056      \n",
      "_________________________________________________________________\n",
      "dropout_1 (Dropout)          (None, 32)                0         \n",
      "_________________________________________________________________\n",
      "dense_1 (Dense)              (None, 16)                528       \n",
      "_________________________________________________________________\n",
      "dense_2 (Dense)              (None, 1)                 17        \n",
      "=================================================================\n",
      "Total params: 340,225\n",
      "Trainable params: 340,225\n",
      "Non-trainable params: 0\n",
      "_________________________________________________________________\n"
     ]
    }
   ],
   "source": [
    "from keras.models import Sequential\n",
    "from keras import layers\n",
    "from keras.optimizers import RMSprop\n",
    "from keras import regularizers\n",
    "\n",
    "#순환 컨볼루션 신경망 모델 구축\n",
    "model = Sequential()\n",
    "#최대 단어 갯수, 출력백터차수, 입력시퀀스(문장) 길이\n",
    "#단어를 의미론적 기하고강에 매핑할수 있도록 벡터화\n",
    "model.add(layers.Embedding(max_words, 32, input_length=maxlen))\n",
    "#과적합 방지\n",
    "#0.5 미만 버림\n",
    "model.add(layers.Dropout(0.5))\n",
    "#필터를 이용해 지역적인 특징 추출\n",
    "#출력차원, conv1d 길이, 패딩없음, 은닉층, strides 길이=1\n",
    "model.add(layers.Conv1D(64, 3, padding='valid', activation='relu', strides=1))\n",
    "#입력 벡터에서 특정구간마다 값을 골라 벡터구성 후 반환(특징벡터 1/4 화)\n",
    "model.add(layers.MaxPooling1D(pool_size=4))\n",
    "#LSTM \n",
    "model.add(layers.LSTM(32))\n",
    "#출력 뉴런 수 = 32, 은닉층\n",
    "model.add(layers.Dense(32, activation='relu'))\n",
    "model.add(layers.Dropout(0.5))\n",
    "model.add(layers.Dense(16, activation='relu'))\n",
    "#sigmond = 이진분류\n",
    "model.add(layers.Dense(1, activation='sigmoid'))\n",
    "model.summary()\n",
    "\n",
    "model.compile(optimizer='adam', loss='binary_crossentropy', metrics=['acc', precision, recall, f1score])  "
   ]
  },
  {
   "cell_type": "code",
   "execution_count": 9,
   "metadata": {
    "scrolled": false
   },
   "outputs": [
    {
     "name": "stdout",
     "output_type": "stream",
     "text": [
      "Epoch 1/4\n",
      "40/40 [==============================] - 3s 71ms/step - loss: 0.6937 - acc: 0.4992 - precision: 0.3056 - recall: 0.1074 - f1score: 0.1443 - val_loss: 0.6932 - val_acc: 0.4828 - val_precision: 0.4828 - val_recall: 1.0000 - val_f1score: 0.6482\n",
      "Epoch 2/4\n",
      "40/40 [==============================] - 1s 18ms/step - loss: 0.6913 - acc: 0.5406 - precision: 0.5828 - recall: 0.3643 - f1score: 0.4295 - val_loss: 0.6914 - val_acc: 0.5625 - val_precision: 0.5310 - val_recall: 0.7941 - val_f1score: 0.6336\n",
      "Epoch 3/4\n",
      "40/40 [==============================] - 1s 27ms/step - loss: 0.6520 - acc: 0.6781 - precision: 0.7256 - recall: 0.6188 - f1score: 0.6504 - val_loss: 0.5566 - val_acc: 0.8172 - val_precision: 0.8814 - val_recall: 0.7121 - val_f1score: 0.7873\n",
      "Epoch 4/4\n",
      "40/40 [==============================] - 1s 14ms/step - loss: 0.3422 - acc: 0.8855 - precision: 0.9072 - recall: 0.8651 - f1score: 0.8819 - val_loss: 0.3649 - val_acc: 0.8313 - val_precision: 0.7898 - val_recall: 0.8785 - val_f1score: 0.8307\n"
     ]
    }
   ],
   "source": [
    "# 4회 epoch 시행, 검증데이터 비율 20%\n",
    "history = model.fit(text_train, label_train, epochs=4, batch_size=64, validation_split=0.2)"
   ]
  },
  {
   "cell_type": "code",
   "execution_count": 188,
   "metadata": {},
   "outputs": [],
   "source": [
    "from keras.models import load_model\n",
    "# 서버에서 호출할 모델 저장 및 로드 테스트\n",
    "model.save('model.h5')\n",
    "model = load_model('model.h5', custom_objects = {\"precision\": precision, \"recall\" : recall, \"f1score\" : f1score})"
   ]
  },
  {
   "cell_type": "code",
   "execution_count": 10,
   "metadata": {},
   "outputs": [
    {
     "data": {
      "image/png": "[encoded data removed]",
      "text/plain": [
       "<Figure size 432x288 with 1 Axes>"
      ]
     },
     "metadata": {
      "needs_background": "light"
     },
     "output_type": "display_data"
    },
    {
     "data": {
      "image/png": "[encoded data removed]",
      "text/plain": [
       "<Figure size 432x288 with 1 Axes>"
      ]
     },
     "metadata": {
      "needs_background": "light"
     },
     "output_type": "display_data"
    },
    {
     "data": {
      "image/png": "[encoded data removed]",
      "text/plain": [
       "<Figure size 432x288 with 1 Axes>"
      ]
     },
     "metadata": {
      "needs_background": "light"
     },
     "output_type": "display_data"
    }
   ],
   "source": [
    "import matplotlib.pyplot as plt\n",
    "# epoch 결과 비주얼화\n",
    "#acc\n",
    "acc = history.history['acc']\n",
    "val_acc = history.history['val_acc']\n",
    "#f1score\n",
    "f1 = history.history['f1score']\n",
    "val_f1 = history.history['val_f1score']\n",
    "#loss\n",
    "loss = history.history['loss']\n",
    "val_loss = history.history['val_loss']\n",
    "\n",
    "epochs = range(1, len(acc) + 1)\n",
    "#acc - 비주얼화\n",
    "plt.plot(epochs, acc, 'bo', label='Training acc')\n",
    "plt.plot(epochs, val_acc, 'b', label='Validation acc')\n",
    "plt.title('Training and validation accuary')\n",
    "plt.legend()\n",
    "#f1score - 비주얼화\n",
    "plt.figure()\n",
    "plt.plot(epochs, f1, 'bo', label='Training f1score')\n",
    "plt.plot(epochs, val_f1, 'b', label='Validation f1score')\n",
    "plt.title('Training and validation f1score')\n",
    "plt.legend()\n",
    "#loss - 비주얼화\n",
    "plt.figure()\n",
    "plt.plot(epochs, loss, 'bo', label='Training loss')\n",
    "plt.plot(epochs, val_loss, 'b', label='Validation loss')\n",
    "plt.title('Training and validation loss')\n",
    "plt.legend()\n",
    "\n",
    "plt.show()"
   ]
  },
  {
   "cell_type": "code",
   "execution_count": 11,
   "metadata": {},
   "outputs": [],
   "source": [
    "texts = []\n",
    "labels = []\n",
    "# 완성된 모델을 테스트하기 위한 테스트데이터 로드\n",
    "# f1 = 테스트용 문장 / f2 = 테스트용 문장의 라벨링\n",
    "f1 = open(\"800_text.txt\", 'r', encoding='utf-8')\n",
    "f2 = open(\"800_label.txt\", 'r', encoding='utf-8')\n",
    "while True:\n",
    "    textline = f1.readline()\n",
    "    labelline = f2.readline()\n",
    "    if not textline: break\n",
    "    texts.append(textline[:-1])\n",
    "    labels.append(int(labelline[:-1]))\n",
    "f1.close()\n",
    "f2.close()"
   ]
  },
  {
   "cell_type": "code",
   "execution_count": 12,
   "metadata": {},
   "outputs": [],
   "source": [
    "# 문장 형태소 분석, 필요없는 형태소(불용어) 제거 후 저장\n",
    "morpheme = []\n",
    "for text in texts:\n",
    "    mor_data = \"\"\n",
    "    for word_tag in okt.pos(text, norm=True, stem=True):\n",
    "        if word_tag[1] in ['Noun', 'Verb', 'VerbPrefix', 'Adjective', 'Determiner', 'Adverb', 'Exclamation', 'KoreanParticle']:\n",
    "            mor_data += word_tag[0]\n",
    "            mor_data += \" \"\n",
    "    morpheme.append(mor_data) "
   ]
  },
  {
   "cell_type": "code",
   "execution_count": 13,
   "metadata": {},
   "outputs": [],
   "source": [
    "# 정수 인코딩 후 패딩과 셔플\n",
    "sequences = tokenizer.texts_to_sequences(morpheme)\n",
    "pad_data = pad_sequences(sequences, maxlen=maxlen)\n",
    "labels = np.asarray(labels)\n",
    "indices = np.arange(pad_data.shape[0])\n",
    "np.random.shuffle(indices)\n",
    "text_test = pad_data[indices]\n",
    "label_test = labels[indices]"
   ]
  },
  {
   "cell_type": "code",
   "execution_count": 14,
   "metadata": {},
   "outputs": [],
   "source": [
    "#모델 컴파일\n",
    "model.compile(optimizer='adam', loss='binary_crossentropy', metrics=['accuracy', precision, recall, f1score]) "
   ]
  },
  {
   "cell_type": "code",
   "execution_count": 15,
   "metadata": {
    "scrolled": true
   },
   "outputs": [
    {
     "name": "stdout",
     "output_type": "stream",
     "text": [
      "25/25 [==============================] - 0s 2ms/step - loss: 0.3609 - accuracy: 0.8462 - precision: 0.8167 - recall: 0.8882 - f1score: 0.8465\n",
      "loss: 0.361, accuracy: 0.846, precision: 0.817, recall: 0.888, f1score: 0.847\n",
      "acc는 0.85 입니다.\n",
      "f1score는 0.85 입니다.\n"
     ]
    }
   ],
   "source": [
    "_loss, _acc, _precision, _recall, _f1score = model.evaluate(text_test, label_test)\n",
    "print('loss: {:.3f}, accuracy: {:.3f}, precision: {:.3f}, recall: {:.3f}, f1score: {:.3f}'.format(_loss, _acc, _precision, _recall, _f1score))\n",
    "print(\"acc는\", round(_acc, 2), \"입니다.\")\n",
    "print(\"f1score는\", round(_f1score, 2), \"입니다.\")"
   ]
  },
  {
   "cell_type": "code",
   "execution_count": null,
   "metadata": {},
   "outputs": [],
   "source": []
  }
 ],
 "metadata": {
  "kernelspec": {
   "display_name": "Python 3",
   "language": "python",
   "name": "python3"
  },
  "language_info": {
   "codemirror_mode": {
    "name": "ipython",
    "version": 3
   },
   "file_extension": ".py",
   "mimetype": "text/x-python",
   "name": "python",
   "nbconvert_exporter": "python",
   "pygments_lexer": "ipython3",
   "version": "3.6.10"
  }
 },
 "nbformat": 4,
 "nbformat_minor": 4
}
